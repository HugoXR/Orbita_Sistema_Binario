{
 "cells": [
  {
   "cell_type": "markdown",
   "metadata": {},
   "source": [
    "# Sistema Solar Binário"
   ]
  },
  {
   "cell_type": "markdown",
   "metadata": {},
   "source": [
    "## Descrição do problema a ser analizado"
   ]
  },
  {
   "cell_type": "markdown",
   "metadata": {},
   "source": [
    "Um sistema binário é um sistema que consiste em duas estrelas orbitando seu centro de massa, como as estrelas representam a maior parte da massa do sistema o resto do sistema também orbita este centro de massa, entretanto, devido a influência gravitacional de cada uma das estrelas, está orbita pode ser diferente em cada caso. O problema consiste em descrever orbitas binárias utilizando o python.\n"
   ]
  },
  {
   "cell_type": "markdown",
   "metadata": {},
   "source": [
    "### Classificação"
   ]
  },
  {
   "cell_type": "markdown",
   "metadata": {},
   "source": [
    "Para o sistema binário a estrela mais brilhante é chamada de estrela primária enquanto a outra é chamada de secundária. Também é possível classificá-las de acordo com a orbita em que chamamos de **binárias amplas** aquelas em que as estrelas ficam separadas pela orbita, de forma que não há troca de massas entre elas, e as **binárias próximas** em que pela proximidade há troca de massa entre as estrelas. Neste estudo descreveremos as orbitas de binárias próximas."
   ]
  },
  {
   "cell_type": "markdown",
   "metadata": {},
   "source": [
    "Existem dois tipos de orbitas para um planeta em um sistema binário: A **Tipo-P(Circumbinária)** em que o planeta orbita o centro de massa das duas estrelas, e a **Tipo-S(Não circumbinária)** em que o planeta orbita uma das estrelas e a outra gera perturbações na orbita."
   ]
  },
  {
   "cell_type": "markdown",
   "metadata": {},
   "source": [
    "## Formalização matemática do problema"
   ]
  },
  {
   "cell_type": "markdown",
   "metadata": {},
   "source": [
    "Para descrever o problema é necessário utilizar a gravitação de dois corpos clássica e aplicá-la ao problema das orbitas. Para isto utilizamos a equação da força gravitacional que um corpo $a$ aplica em um corpo $b$:\n",
    "$$ \\vec{F_{ab}}=\\frac{-G m_a m_b(\\vec{R_b}-\\vec{R_a})}{(|\\vec{R_b}-\\vec{R_a}|)^3}$$\n",
    "\n",
    "Assim, como, pela 2º lei de Newton, a soma das n forças resultantes sobre um corpo j é igual a\n",
    "\n",
    "$$\\sum_{i\\neq j}^{n} \\vec{F_{ij}} = m_{j}\\vec{a_{j}}$$\n",
    "\n",
    "então, para o problema de n corpos podemos calcular a aceleração sofrida por cada corpo devido a força gravitacional por\n",
    "\n",
    "$$\\vec{a_{j}} = -G \\sum_{i\\neq j}^{n}\\frac{m_{i} (\\vec{R_j}-\\vec{R_i})}{(|\\vec{R_j}-\\vec{R_i}|)^3}$$\n",
    "\n",
    "Fazemos isso para cada um dos corpos do sistema para\n",
    "determinar as equacões de movimento do sistema. \n",
    "\n",
    "então para:\n",
    "$$\n",
    "X=\n",
    "\\begin{bmatrix}\n",
    " \\vec{R_n} \\\\ \\vec{v_n}\n",
    "\\end{bmatrix}\n",
    "_{2n\\times 1}\n",
    "$$\n",
    "\n",
    "temos que:\n",
    "$$ \n",
    "\\dot{X}=\n",
    "\\begin{bmatrix}\n",
    " \\vec{v_n} \\\\ \\dot{\\vec{v_n}}\n",
    "\\end{bmatrix}\n",
    "_{2n\\times 1}$$\n",
    "e\n",
    "$$\n",
    "\\dot{\\vec{v_j}}= \\vec{a_j} = -G\\sum_{i\\neq j}^n m_i \\frac{\\vec{R_j}-\\vec{R_i}}{(|\\vec{R_j}-\\vec{R_i}|)^3}\n",
    "$$\n",
    "Então definindo uma função para $X$ podemos utilizar o metodo de Runge-Kutta de 4ª ordem e assim com as posições e velocidades iniciais\n",
    "podemos resolver numericamente o problema."
   ]
  },
  {
   "cell_type": "markdown",
   "metadata": {},
   "source": [
    "## Implementação do problema em python"
   ]
  },
  {
   "cell_type": "code",
   "execution_count": 1,
   "metadata": {},
   "outputs": [
    {
     "data": {
      "text/html": [
       "<div id=\"glowscript\" class=\"glowscript\"></div>"
      ],
      "text/plain": [
       "<IPython.core.display.HTML object>"
      ]
     },
     "metadata": {},
     "output_type": "display_data"
    },
    {
     "data": {
      "application/javascript": [
       "if (typeof Jupyter !== \"undefined\") { window.__context = { glowscript_container: $(\"#glowscript\").removeAttr(\"id\")};}else{ element.textContent = ' ';}"
      ],
      "text/plain": [
       "<IPython.core.display.Javascript object>"
      ]
     },
     "metadata": {},
     "output_type": "display_data"
    }
   ],
   "source": [
    "import numpy as np\n",
    "import matplotlib.pyplot as plt\n",
    "from scipy.integrate import odeint\n",
    "from astropy import constants\n",
    "from astropy import units\n",
    "from vpython import *"
   ]
  },
  {
   "cell_type": "markdown",
   "metadata": {},
   "source": [
    "No problema de 3 corpos, para facilitar a escolha das posições e velocidades iniciais, vamos tomar os referenciais partindo do centro de massa das estrelas, a partir disso, podemos definir a massa reduzida por\n",
    "\n",
    "$$\\mu = \\frac{M_iM_j}{M_i + M_j}$$\n",
    "\n",
    "onde $M_j$ e $M_j$ são as massas das estrelas. A partir desta podemos chegar a posição de cada uma das estrelas em relação ao centro de massa fazendo\n",
    "\n",
    "$$\\vec{r_{i}} = \\frac{M_{j}}{M{i} + M_{j}} \\vec{r}$$\n",
    "$$\\vec{r_{j}} = \\frac{M_{i}}{M{i} + M_{j}} \\vec{r}$$\n",
    "\n",
    "onde $\\vec{r}$ é a posição das duas estrelas entre si, que é o tamanho do semi-eixo maior da órbita entre as duas estrelas. A partir disso, e do período da órbita $P$, podemos calcular a velocidade tangencial inicial, considerando aproximadamente uma órbita circular fechada\n",
    "\n",
    "$$\\vec{v_{i}} = \\frac{2\\pi r_{i}}{P}$$\n",
    "\n",
    "$$\\vec{v_{j}} = \\frac{2\\pi r_{j}}{P}$$"
   ]
  },
  {
   "cell_type": "markdown",
   "metadata": {},
   "source": [
    "###  (Sistema Circumbinário Kepler-16)"
   ]
  },
  {
   "cell_type": "markdown",
   "metadata": {},
   "source": [
    "Valores iniciais:"
   ]
  },
  {
   "cell_type": "code",
   "execution_count": 2,
   "metadata": {},
   "outputs": [],
   "source": [
    "G = constants.G.value # Constante da Gravitacao\n",
    "n=3 #Numero de corpos\n",
    "M=np.zeros(n)\n",
    "M[0] = (0.6897*units.Msun).decompose().value # Massa da primeira estrela em Massas Solares\n",
    "M[1] = (0.20225*units.Msun).decompose().value # Massa da segunda estrela em Massas Solares\n",
    "M[2] = (0.333*units.Mjup).decompose().value # Massa do planeta em Massas de Jupiter\n",
    "mu = (M[0] * M[1])/(M[0] + M[1]) #Massa reduzida das estrelas"
   ]
  },
  {
   "cell_type": "markdown",
   "metadata": {},
   "source": [
    "Definição da função $\\frac{dX}{dt}$:\n",
    "\n"
   ]
  },
  {
   "cell_type": "code",
   "execution_count": 3,
   "metadata": {},
   "outputs": [],
   "source": [
    "#Formula Geral (para o problema escrito em 3 dimensões)\n",
    "def dxdt(X, t):\n",
    "    n=len(X)//2\n",
    "    a=np.zeros(n)\n",
    "    for i in range(n//3):\n",
    "        for j in range(n//3):\n",
    "            if i!=j:\n",
    "                r_ij = X[i*3:3*(1+i)]-X[j*3:3*(1+j)] # Posicao entre os corpos i e j\n",
    "                mod_rij = np.linalg.norm(r_ij) # Modulo da posicao entre os corpos i e j\n",
    "                a[3*i:3*(1+i)]+=-G*M[j]*(r_ij)/mod_rij**3 # Aceleracao do corpo i devido ao j\n",
    "    return np.hstack((X[n:],a))"
   ]
  },
  {
   "cell_type": "markdown",
   "metadata": {},
   "source": [
    "Utilizando o referencial do centro de massa:"
   ]
  },
  {
   "cell_type": "code",
   "execution_count": 4,
   "metadata": {},
   "outputs": [],
   "source": [
    "a_S = (0.22431 * units.AU).decompose().value # Distancia inicial das estrelas (semi-eixo maior) em Unidade Astronomica\n",
    "a_P = (0.7048 * units.AU).decompose().value # Distancia inicial do planeta (semi-eixo maior) em Unidade Astronomica\n",
    "\n",
    "#P = 2*np.pi*np.sqrt((a_S**3)/(G*(M[0] + M[1]))) # Periodo da orbita das estrelas (entre si) pela terceira lei de kepler\n",
    "#P_p = 2*np.pi*np.sqrt((a_P**3)/(G*(M[0] + M[1]))) # Periodo da orbita do planeta em torno das estrelas pela terceira lei de kepler\n",
    "\n",
    "P = (41.079220*units.d).decompose().value # Periodo da orbita das estrelas(entre si) em dias\n",
    "P_p = (228.776*units.d).decompose().value # Periodo da orbita do planeta em torno das estrelas em dias\n",
    "\n",
    "r_1 = -a_S*(mu/M[0]) # Posicao relativa da primeira estrela\n",
    "r_2 = a_S*(mu/M[1]) # Posicao relativa da segunda estrelas\n",
    "r_p = a_P # Posicao do planeta\n",
    "\n",
    "v_1 = 2*np.pi*r_1/P # Velocidade inicial da estrela 1\n",
    "v_2 = 2*np.pi*r_2/P # Velocidade inicial da estrela 2\n",
    "v_p = 2*np.pi*r_p/P_p # Velocidade inicial do planeta\n",
    "\n",
    "X = np.array([r_1, 0, 0, r_2, 0, 0, r_p, 0, 0, 0, v_1, 0, 0, v_2, 0, 0,\n",
    "              v_p, 0])"
   ]
  },
  {
   "cell_type": "markdown",
   "metadata": {},
   "source": [
    "## Aplicações e Resultados"
   ]
  },
  {
   "cell_type": "markdown",
   "metadata": {},
   "source": [
    "### Orbita para 1 Período do Planeta"
   ]
  },
  {
   "cell_type": "code",
   "execution_count": 5,
   "metadata": {},
   "outputs": [
    {
     "data": {
      "image/png": "[encoded data removed]",
      "text/plain": [
       "<Figure size 360x360 with 1 Axes>"
      ]
     },
     "metadata": {
      "needs_background": "light"
     },
     "output_type": "display_data"
    }
   ],
   "source": [
    "t_orbit = np.linspace(0, P_p, 1000)\n",
    "\n",
    "trajetoria = odeint(dxdt, X, t_orbit)\n",
    "\n",
    "plt.figure(figsize=(5,5))\n",
    "plt.plot(trajetoria[:, 0], trajetoria[:, 1], label=\"Estrela Kepler-16A\")\n",
    "plt.plot(trajetoria[:, 3], trajetoria[:, 4], label=\"Estrela Kepler-16B\")\n",
    "plt.plot(trajetoria[:, 6], trajetoria[:, 7], label=\"Planeta Kepler-16b\")\n",
    "plt.plot(trajetoria[-1, 0], trajetoria[-1, 1], 'o')\n",
    "plt.plot(trajetoria[-1, 3], trajetoria[-1, 4], 'o')\n",
    "plt.plot(trajetoria[-1, 6], trajetoria[-1, 7], 'o')\n",
    "plt.title(\"Sistema Circumbinário Kepler-16\")\n",
    "plt.xlabel('$x(10^{11} m)$')\n",
    "plt.ylabel('$y(10^{11} m)$')\n",
    "plt.legend(loc=\"lower left\")\n",
    "plt.show()"
   ]
  },
  {
   "cell_type": "markdown",
   "metadata": {},
   "source": [
    "#### Orbita da Kepler-16B para 1 Período do Planeta"
   ]
  },
  {
   "cell_type": "code",
   "execution_count": 7,
   "metadata": {},
   "outputs": [
    {
     "data": {
      "image/png": "[encoded data removed]",
      "text/plain": [
       "<Figure size 720x720 with 1 Axes>"
      ]
     },
     "metadata": {
      "needs_background": "light"
     },
     "output_type": "display_data"
    }
   ],
   "source": [
    "plt.figure(figsize=(10,10))\n",
    "plt.plot(trajetoria[:, 3], trajetoria[:, 4], color='orange')\n",
    "plt.plot(trajetoria[-1, 3], trajetoria[-1, 4], 'o')\n",
    "plt.xlim((-0.263E11, -0.255E11))\n",
    "plt.ylim((-0.02E11, 0.02E11))\n",
    "plt.title(\"Orbita da Estrela Kepler-16B\")\n",
    "plt.xlabel('$x(10^{11} m)$')\n",
    "plt.ylabel('$y(10^{11} m)$')\n",
    "plt.show()"
   ]
  },
  {
   "cell_type": "markdown",
   "metadata": {},
   "source": [
    "Como pode-se observar, ao planeta completar 1 órbita completa, a estrela Kepler-16B, aproximadamente 6 órbitas, e isso pode ser evidenciado quando comparamos o período da órbita do planeta com o das estrelas de forma que"
   ]
  },
  {
   "cell_type": "code",
   "execution_count": 8,
   "metadata": {},
   "outputs": [
    {
     "name": "stdout",
     "output_type": "stream",
     "text": [
      "A razão entre o período das estrelas e do planeta é de 5.5691\n"
     ]
    }
   ],
   "source": [
    "razao_Periodo = P_p/P\n",
    "print(f'A razão entre o período das estrelas e do planeta é de {razao_Periodo:.4f}')"
   ]
  },
  {
   "cell_type": "markdown",
   "metadata": {},
   "source": [
    "### Simulação no vpython"
   ]
  },
  {
   "cell_type": "code",
   "execution_count": 9,
   "metadata": {},
   "outputs": [
    {
     "data": {
      "application/javascript": [
       "if (typeof Jupyter !== \"undefined\") {require.undef(\"nbextensions/vpython_libraries/glow.min\");}else{element.textContent = ' ';}"
      ],
      "text/plain": [
       "<IPython.core.display.Javascript object>"
      ]
     },
     "metadata": {},
     "output_type": "display_data"
    },
    {
     "data": {
      "application/javascript": [
       "if (typeof Jupyter !== \"undefined\") {require.undef(\"nbextensions/vpython_libraries/glowcomm\");}else{element.textContent = ' ';}"
      ],
      "text/plain": [
       "<IPython.core.display.Javascript object>"
      ]
     },
     "metadata": {},
     "output_type": "display_data"
    },
    {
     "data": {
      "application/javascript": [
       "if (typeof Jupyter !== \"undefined\") {require.undef(\"nbextensions/vpython_libraries/jquery-ui.custom.min\");}else{element.textContent = ' ';}"
      ],
      "text/plain": [
       "<IPython.core.display.Javascript object>"
      ]
     },
     "metadata": {},
     "output_type": "display_data"
    },
    {
     "data": {
      "application/javascript": [
       "if (typeof Jupyter !== \"undefined\") {require([\"nbextensions/vpython_libraries/glow.min\"], function(){console.log(\"GLOW LOADED\");});}else{element.textContent = ' ';}"
      ],
      "text/plain": [
       "<IPython.core.display.Javascript object>"
      ]
     },
     "metadata": {},
     "output_type": "display_data"
    },
    {
     "data": {
      "application/javascript": [
       "if (typeof Jupyter !== \"undefined\") {require([\"nbextensions/vpython_libraries/glowcomm\"], function(){console.log(\"GLOWCOMM LOADED\");});}else{element.textContent = ' ';}"
      ],
      "text/plain": [
       "<IPython.core.display.Javascript object>"
      ]
     },
     "metadata": {},
     "output_type": "display_data"
    },
    {
     "data": {
      "application/javascript": [
       "if (typeof Jupyter !== \"undefined\") {require([\"nbextensions/vpython_libraries/jquery-ui.custom.min\"], function(){console.log(\"JQUERY LOADED\");});}else{element.textContent = ' ';}"
      ],
      "text/plain": [
       "<IPython.core.display.Javascript object>"
      ]
     },
     "metadata": {},
     "output_type": "display_data"
    }
   ],
   "source": [
    "star1 = sphere(pos=vector(r_1, 0, 0), radius=(0.6897*units.R_sun).decompose().value, color=color.yellow, make_trail=True)\n",
    "star2 = sphere(pos=vector(r_2, 0, 0), radius=(0.22623*units.R_sun).decompose().value, color=color.cyan, make_trail=True)\n",
    "planet = sphere(pos=vector(r_p, 0, 0),\n",
    "                        radius=(0.7538*units.R_jupiter).decompose().value,\n",
    "                        color=color.red, make_trail=True)\n",
    "\n",
    "for ponto in trajetoria:\n",
    "    rate(100)\n",
    "    star1.pos = vector(ponto[0], ponto[1], ponto[2])\n",
    "    star2.pos = vector(ponto[3], ponto[4], ponto[5])\n",
    "    planet.pos = vector(ponto[6], ponto[7], ponto[8])"
   ]
  },
  {
   "cell_type": "code",
   "execution_count": null,
   "metadata": {},
   "outputs": [],
   "source": []
  }
 ],
 "metadata": {
  "interpreter": {
   "hash": "7d6993cb2f9ce9a59d5d7380609d9cb5192a9dedd2735a011418ad9e827eb538"
  },
  "kernelspec": {
   "display_name": "Python 3 (ipykernel)",
   "language": "python",
   "name": "python3"
  },
  "language_info": {
   "codemirror_mode": {
    "name": "ipython",
    "version": 3
   },
   "file_extension": ".py",
   "mimetype": "text/x-python",
   "name": "python",
   "nbconvert_exporter": "python",
   "pygments_lexer": "ipython3",
   "version": "3.10.2"
  }
 },
 "nbformat": 4,
 "nbformat_minor": 2
}
