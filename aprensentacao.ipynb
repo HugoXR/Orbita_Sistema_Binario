{
 "cells": [
  {
   "cell_type": "markdown",
   "metadata": {},
   "source": [
    "# Sistema Solar Binário"
   ]
  },
  {
   "cell_type": "markdown",
   "metadata": {},
   "source": [
    "## Descrição do problema a ser analizado"
   ]
  },
  {
   "cell_type": "markdown",
   "metadata": {},
   "source": [
    "Um sistema solar binário é um sistema solar que consiste em duas estrelas orbitando seu centro de massa, como as estrelas representam a maior parte da massa do sistema o resto do sistema também orbita o centro de massa. O problema consiste em descrever orbitas binárias utilizando o python. Para facilitar o problema consideraremos o problema em 2-D.\n"
   ]
  },
  {
   "cell_type": "markdown",
   "metadata": {},
   "source": [
    "### Classificação"
   ]
  },
  {
   "cell_type": "markdown",
   "metadata": {},
   "source": [
    "Para o sistema binário a estrela mais brilhante é chamada de estrela primária enquanto a outra é chamada de secundária. Também é possível classificá-las de acordo com a orbita em que chamamos de **binárias amplas** aquelas em que as estrelas ficam separadas pela orbita de forma que não há troca de massas entre elas e **binárias próximas** em que pela proximidade há troca de massa entre as estrelas."
   ]
  },
  {
   "cell_type": "markdown",
   "metadata": {},
   "source": [
    "Existem dois tipos de orbitas para um planeta em um sistema binário: A **Tipo-P(Circumbinária)** em que o planeta orbita o centro de massa das duas estrelas. e a **Tipo-S(Não circumbinária)** em que o planeta orbita uma das estrelas e a outra gera perturbações na orbita."
   ]
  },
  {
   "cell_type": "markdown",
   "metadata": {},
   "source": [
    "## Formalização matemática do problema"
   ]
  },
  {
   "cell_type": "markdown",
   "metadata": {},
   "source": [
    "Para descrever o problema é necessário utilizar a gravitação de dois corpos clássica e aplicá-la ao problema das orbitas. Para isto utilizamos a equação da força gravitacional que um corpo a aplica em um corpo b:\n",
    "$$ F_{ab}=\\frac{-G m_a m_b(\\vec{R_b}-\\vec{R_a})}{(|\\vec{R_b}-\\vec{R_a}|)^3}$$\n",
    "\n",
    "Fazemos isso para cada um dos corpos do sistema para\n",
    "determinar as equacões de movimento do sistema. \n",
    "\n",
    "então para:\n",
    "$$\n",
    "X=\n",
    "\\begin{bmatrix}\n",
    " \\vec{R_n} \\\\ \\vec{v_n}\n",
    "\\end{bmatrix}\n",
    "_{2n\\times 1}\n",
    "$$\n",
    "\n",
    "temos que:\n",
    "$$ \n",
    "\\dot{X}=\n",
    "\\begin{bmatrix}\n",
    " \\vec{v_n} \\\\ \\dot{\\vec{v_n}}\n",
    "\\end{bmatrix}\n",
    "_{2n\\times 1}$$\n",
    "e\n",
    "$$\n",
    "\\dot{\\vec{v_j}}=-G\\sum_{i\\neq j}^n m_i \\frac{\\vec{R_j}-\\vec{R_i}}{(|\\vec{R_j}-\\vec{R_i}|)^3}\n",
    "$$\n",
    "Então definindo uma função para $X$ podemos utilizar o metodo de Runge-Kutta de 4ª ordem e assim com as posições e velocidades iniciais\n",
    "podemos resolver numericamente o problema."
   ]
  },
  {
   "cell_type": "markdown",
   "metadata": {},
   "source": [
    "## Implementação do problema em python"
   ]
  },
  {
   "cell_type": "code",
   "execution_count": 46,
   "metadata": {},
   "outputs": [],
   "source": [
    "import numpy as np\n",
    "import matplotlib.pyplot as plt\n",
    "from scipy.integrate import odeint\n",
    "from astropy import constants\n",
    "from astropy import units\n",
    "import vpython"
   ]
  },
  {
   "cell_type": "markdown",
   "metadata": {},
   "source": [
    "###  (Sistema Circumbinário Kepler-16)"
   ]
  },
  {
   "cell_type": "markdown",
   "metadata": {},
   "source": [
    "Valores iniciais:"
   ]
  },
  {
   "cell_type": "code",
   "execution_count": 47,
   "metadata": {},
   "outputs": [],
   "source": [
    "G = constants.G.value # Constante da Gravitacao\n",
    "n=3 #Numero de corpos\n",
    "M=np.zeros(n)\n",
    "M[0] = (0.6897*units.Msun).decompose().value # Massa da primeira estrela em Massas Solares\n",
    "M[1] = (0.20225*units.Msun).decompose().value # Massa da segunda estrela em Massas Solares\n",
    "M[2] = (0.333*units.Mjup).decompose().value # Massa do planeta em Massas de Jupiter\n",
    "mu = (M[0] * M[1])/(M[0] + M[1]) #Massa reduzida das estrelas"
   ]
  },
  {
   "cell_type": "markdown",
   "metadata": {},
   "source": [
    "Definição da função $\\frac{dX}{dt}$:\n",
    "\n"
   ]
  },
  {
   "cell_type": "code",
   "execution_count": 51,
   "metadata": {},
   "outputs": [],
   "source": [
    "#Formula Geral (para o problema escrito em 3 dimensões)\n",
    "def dxdt(X, t):\n",
    "    n=len(X)//2\n",
    "    a=np.zeros(n)\n",
    "    for i in range(n//3):\n",
    "        for j in range(n//3):\n",
    "            if i!=j:\n",
    "                a[3*i:3*(1+i)]+=-G*M[j]*(X[i*3:3*(1+i)]-X[j*3:3*(1+j)])/np.linalg.norm(X[i*3:3*(1+i)]-X[j*3:3*(1+j)])**3\n",
    "    return np.hstack((X[n:],a))"
   ]
  },
  {
   "cell_type": "markdown",
   "metadata": {},
   "source": [
    "Utilizando o referencial do centro de massa:"
   ]
  },
  {
   "cell_type": "code",
   "execution_count": 49,
   "metadata": {},
   "outputs": [],
   "source": [
    "a_S = (0.22431 * units.AU).decompose().value # Distancia inicial das estrelas (semi-eixo maior) em Unidade Astronomica\n",
    "a_P = (0.7048 * units.AU).decompose().value # Distancia inicial do planeta (semi-eixo maior) em Unidade Astronomica\n",
    "\n",
    "P = 2*np.pi*np.sqrt((a_S**3)/(G*(M[0] + M[1]))) # Periodo da orbita das estrelas (entre si) pela terceira lei de kepler\n",
    "P_p = 2*np.pi*np.sqrt((a_P**3)/(G*(M[0] + M[1]))) # Periodo da orbita do planeta em torno das estrelas pela terceira lei de kepler\n",
    "#P = (41.079220*units.d).decompose().value # Periodo da orbita das estrelas(entre si) em dias\n",
    "#P_p = (228.776*units.d).decompose().value # Periodo da orbita do planeta em torno das estrelas em dias\n",
    "\n",
    "r_1 = -a_S*(mu/M[0]) # Posicao relativa da primeira estrela\n",
    "r_2 = a_S*(mu/M[1]) # Posicao relativa da segunda estrelas\n",
    "r_p = a_P # Posicao do planeta\n",
    "\n",
    "v_1 = 2*np.pi*r_1/P # Velocidade inicial da estrela 1\n",
    "v_2 = 2*np.pi*r_2/P # Velocidade inicial da estrela 2\n",
    "v_p = 2*np.pi*r_p/P_p # Velocidade inicial do planeta\n",
    "#v_1 = np.sqrt(2*G*M_1/abs(r_1))\n",
    "#v_2 = -np.sqrt(2*G*M_2/abs(r_2))\n",
    "#v_p = np.sqrt(2*G*M_1/abs(r_1)) + np.sqrt(2*G*M_2/abs(r_2))\n",
    "\n",
    "X = np.array([r_1, 0, 0, r_2, 0, 0, r_p, 0, 0, 0, v_1, 0, 0, v_2, 0, 0,\n",
    "              v_p, 0])"
   ]
  },
  {
   "cell_type": "markdown",
   "metadata": {},
   "source": [
    "## Aplicações e Resultados"
   ]
  },
  {
   "cell_type": "code",
   "execution_count": 50,
   "metadata": {},
   "outputs": [
    {
     "data": {
      "image/png": "[encoded data removed]",
      "text/plain": [
       "<Figure size 432x288 with 1 Axes>"
      ]
     },
     "metadata": {
      "needs_background": "light"
     },
     "output_type": "display_data"
    }
   ],
   "source": [
    "t_orbit = np.linspace(0, P_p, 1000)\n",
    "\n",
    "trajetoria = odeint(dxdt, X, t_orbit)*1E-11\n",
    "\n",
    "plt.plot(trajetoria[:, 0], trajetoria[:, 1], label=\"Estrela Kepler-16A\")\n",
    "plt.plot(trajetoria[:, 3], trajetoria[:, 4], label=\"Estrela Kepler-16B\")\n",
    "plt.plot(trajetoria[:, 6], trajetoria[:, 7], label=\"Planeta Kepler-16b\")\n",
    "plt.plot(trajetoria[-1, 0], trajetoria[-1, 1], 'o')\n",
    "plt.plot(trajetoria[-1, 3], trajetoria[-1, 4], 'o')\n",
    "plt.plot(trajetoria[-1, 6], trajetoria[-1, 7], 'o')\n",
    "plt.title(\"Sistema Circumbinário Kepler-16\")\n",
    "plt.xlabel('$x(10^{11} m)$')\n",
    "plt.ylabel('$y(10^{11} m)$')\n",
    "plt.legend()\n",
    "plt.show()"
   ]
  }
 ],
 "metadata": {
  "interpreter": {
   "hash": "7d6993cb2f9ce9a59d5d7380609d9cb5192a9dedd2735a011418ad9e827eb538"
  },
  "kernelspec": {
   "display_name": "Python 3.9.12 64-bit",
   "language": "python",
   "name": "python3"
  },
  "language_info": {
   "codemirror_mode": {
    "name": "ipython",
    "version": 3
   },
   "file_extension": ".py",
   "mimetype": "text/x-python",
   "name": "python",
   "nbconvert_exporter": "python",
   "pygments_lexer": "ipython3",
   "version": "3.9.12"
  },
  "orig_nbformat": 4
 },
 "nbformat": 4,
 "nbformat_minor": 2
}
